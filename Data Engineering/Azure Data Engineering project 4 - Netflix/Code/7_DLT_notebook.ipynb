{
 "cells": [
  {
   "cell_type": "markdown",
   "metadata": {
    "application/vnd.databricks.v1+cell": {
     "cellMetadata": {},
     "inputWidgets": {},
     "nuid": "89291d58-17c2-43e4-abb6-f183cb3ff444",
     "showTitle": false,
     "tableResultSettingsMap": {},
     "title": ""
    }
   },
   "source": [
    "\n",
    "# DLT Notebook - Gold Layer"
   ]
  },
  {
   "cell_type": "code",
   "execution_count": 0,
   "metadata": {
    "application/vnd.databricks.v1+cell": {
     "cellMetadata": {},
     "inputWidgets": {},
     "nuid": "1bd313c1-0421-48e2-8522-d8705f57a4c9",
     "showTitle": false,
     "tableResultSettingsMap": {},
     "title": ""
    }
   },
   "outputs": [],
   "source": [
    "looktables_rules = {\n",
    "            \"rule1\": \"show_id is NOT NULL\",\n",
    "            \n",
    "    }"
   ]
  },
  {
   "cell_type": "code",
   "execution_count": 0,
   "metadata": {
    "application/vnd.databricks.v1+cell": {
     "cellMetadata": {},
     "inputWidgets": {},
     "nuid": "e4df5fa5-4eca-4001-8d8a-062d94f083e3",
     "showTitle": false,
     "tableResultSettingsMap": {},
     "title": ""
    }
   },
   "outputs": [],
   "source": [
    "@dlt.table(\n",
    "    name = \"gold_netflix_directors\"\n",
    ")\n",
    "\n",
    "@dlt.expect_all_or_drop(looktables_rules)\n",
    "\n",
    "def myfunc():\n",
    "    df = spark.readStream.format('delta').load(\"abfss://silver@aardeprojectadls.dfs.core.windows.net/netflix_directors\")\n",
    "    return df"
   ]
  },
  {
   "cell_type": "code",
   "execution_count": 0,
   "metadata": {
    "application/vnd.databricks.v1+cell": {
     "cellMetadata": {},
     "inputWidgets": {},
     "nuid": "ec276916-a702-468d-920b-207c3c98f6d4",
     "showTitle": false,
     "tableResultSettingsMap": {},
     "title": ""
    }
   },
   "outputs": [],
   "source": [
    "@dlt.table(\n",
    "    name = \"gold_netflix_cast\"\n",
    ")\n",
    "\n",
    "@dlt.expect_all_or_drop(looktables_rules)\n",
    "\n",
    "def myfunc():\n",
    "    df = spark.readStream.format('delta').load(\"abfss://silver@aardeprojectadls.dfs.core.windows.net/netflix_cast\")\n",
    "    return df"
   ]
  },
  {
   "cell_type": "code",
   "execution_count": 0,
   "metadata": {
    "application/vnd.databricks.v1+cell": {
     "cellMetadata": {},
     "inputWidgets": {},
     "nuid": "0f540033-be77-46f4-b9ae-e27a3d69f491",
     "showTitle": false,
     "tableResultSettingsMap": {},
     "title": ""
    }
   },
   "outputs": [],
   "source": [
    "@dlt.table(\n",
    "    name = \"gold_netflix_countries\"\n",
    ")\n",
    "\n",
    "@dlt.expect_all_or_drop(looktables_rules)\n",
    "\n",
    "def myfunc():\n",
    "    df = spark.readStream.format('delta').load(\"abfss://silver@aardeprojectadls.dfs.core.windows.net/netflix_countries\")\n",
    "    return df"
   ]
  },
  {
   "cell_type": "code",
   "execution_count": 0,
   "metadata": {
    "application/vnd.databricks.v1+cell": {
     "cellMetadata": {},
     "inputWidgets": {},
     "nuid": "eea2d14c-ff24-403c-b203-a82804c6b0d9",
     "showTitle": false,
     "tableResultSettingsMap": {},
     "title": ""
    }
   },
   "outputs": [],
   "source": [
    "@dlt.table(\n",
    "    name = \"gold_netflix_category\"\n",
    ")\n",
    "\n",
    "@dlt.expect_or_drop(\"rule1\", \"show_id is NOT NULL\")\n",
    "\n",
    "def myfunc():\n",
    "    df = spark.readStream.format('delta').load(\"abfss://silver@aardeprojectadls.dfs.core.windows.net/netflix_category\")\n",
    "    return df"
   ]
  },
  {
   "cell_type": "code",
   "execution_count": 0,
   "metadata": {
    "application/vnd.databricks.v1+cell": {
     "cellMetadata": {},
     "inputWidgets": {},
     "nuid": "b92e3898-ec6e-4240-a179-9b39bc008db9",
     "showTitle": false,
     "tableResultSettingsMap": {},
     "title": ""
    }
   },
   "outputs": [],
   "source": [
    "@dlt.table\n",
    "\n",
    "def gold_stg_netflixtitles():\n",
    "    \n",
    "    df = spark.readStream.format('delta').load(\"abfss://silver@aardeprojectadls.dfs.core.windows.net/netflix_titles\")\n",
    "    return df"
   ]
  },
  {
   "cell_type": "code",
   "execution_count": 0,
   "metadata": {
    "application/vnd.databricks.v1+cell": {
     "cellMetadata": {},
     "inputWidgets": {},
     "nuid": "9b3dbf2e-06bb-4968-8f73-34a96cb7904c",
     "showTitle": false,
     "tableResultSettingsMap": {},
     "title": ""
    }
   },
   "outputs": [],
   "source": [
    "from pyspark.sql.functions import *"
   ]
  },
  {
   "cell_type": "code",
   "execution_count": 0,
   "metadata": {
    "application/vnd.databricks.v1+cell": {
     "cellMetadata": {},
     "inputWidgets": {},
     "nuid": "29e20a8f-e677-4ace-a660-39983a4b845a",
     "showTitle": false,
     "tableResultSettingsMap": {},
     "title": ""
    }
   },
   "outputs": [],
   "source": [
    "@dlt.view\n",
    "\n",
    "def gold_transformed_netflixtitles():\n",
    "    df = spark.readStream.table(\"LIVE.gold_stg_netflixtitles\")\n",
    "    df = df.withColumn(\"new_flag\", lit(1))\n",
    "    return df"
   ]
  },
  {
   "cell_type": "code",
   "execution_count": 0,
   "metadata": {
    "application/vnd.databricks.v1+cell": {
     "cellMetadata": {},
     "inputWidgets": {},
     "nuid": "fe93addd-9afb-4f56-84ea-6fa411ff9de3",
     "showTitle": false,
     "tableResultSettingsMap": {},
     "title": ""
    }
   },
   "outputs": [],
   "source": [
    "masterdata_rules = {\n",
    "    \"rule1\" : \"new_flag is NOT NULL\",\n",
    "    \"rule2\" : \"show_id is NOT NULL\"\n",
    "}"
   ]
  },
  {
   "cell_type": "code",
   "execution_count": 0,
   "metadata": {
    "application/vnd.databricks.v1+cell": {
     "cellMetadata": {},
     "inputWidgets": {},
     "nuid": "b331fe0a-b34a-448f-8f68-942ab5c6698d",
     "showTitle": false,
     "tableResultSettingsMap": {},
     "title": ""
    }
   },
   "outputs": [],
   "source": [
    "@dlt.table\n",
    "\n",
    "@dlt.expect_all_or_drop(masterdata_rules)\n",
    "\n",
    "def gold_netflixtitles():\n",
    "    df = spark.readStream.table(\"LIVE.gold_transformed_netflixtitles\")\n",
    "    return df"
   ]
  }
 ],
 "metadata": {
  "application/vnd.databricks.v1+notebook": {
   "computePreferences": null,
   "dashboards": [],
   "environmentMetadata": {
    "base_environment": "",
    "environment_version": "2"
   },
   "language": "python",
   "notebookMetadata": {
    "pythonIndentUnit": 4
   },
   "notebookName": "7_DLT_notebook",
   "widgets": {}
  },
  "language_info": {
   "name": "python"
  }
 },
 "nbformat": 4,
 "nbformat_minor": 0
}